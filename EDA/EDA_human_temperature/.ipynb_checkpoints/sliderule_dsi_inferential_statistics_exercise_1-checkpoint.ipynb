{
 "cells": [
  {
   "cell_type": "markdown",
   "metadata": {},
   "source": [
    "# What is the True Normal Human Body Temperature? \n",
    "\n",
    "#### Background\n",
    "\n",
    "The mean normal body temperature was held to be 37$^{\\circ}$C or 98.6$^{\\circ}$F for more than 120 years since it was first conceptualized and reported by Carl Wunderlich in a famous 1868 book. But, is this value statistically correct?"
   ]
  },
  {
   "cell_type": "markdown",
   "metadata": {},
   "source": [
    "<h3>Exercises</h3>\n",
    "\n",
    "<p>In this exercise, you will analyze a dataset of human body temperatures and employ the concepts of hypothesis testing, confidence intervals, and statistical significance.</p>\n",
    "\n",
    "<p>Answer the following questions <b>in this notebook below and submit to your Github account</b>.</p> \n",
    "\n",
    "<ol>\n",
    "<li>  Is the distribution of body temperatures normal? \n",
    "    <ul>\n",
    "    <li> Although this is not a requirement for the Central Limit Theorem to hold (read the introduction on Wikipedia's page about the CLT carefully: https://en.wikipedia.org/wiki/Central_limit_theorem), it gives us some peace of mind that the population may also be normally distributed if we assume that this sample is representative of the population.\n",
    "    <li> Think about the way you're going to check for the normality of the distribution. Graphical methods are usually used first, but there are also other ways: https://en.wikipedia.org/wiki/Normality_test\n",
    "    </ul>\n",
    "<li>  Is the sample size large? Are the observations independent?\n",
    "    <ul>\n",
    "    <li> Remember that this is a condition for the Central Limit Theorem, and hence the statistical tests we are using, to apply.\n",
    "    </ul>\n",
    "<li>  Is the true population mean really 98.6 degrees F?\n",
    "    <ul>\n",
    "    <li> First, try a bootstrap hypothesis test.\n",
    "    <li> Now, let's try frequentist statistical testing. Would you use a one-sample or two-sample test? Why?\n",
    "    <li> In this situation, is it appropriate to use the $t$ or $z$ statistic? \n",
    "    <li> Now try using the other test. How is the result be different? Why?\n",
    "    </ul>\n",
    "<li>  Draw a small sample of size 10 from the data and repeat both frequentist tests. \n",
    "    <ul>\n",
    "    <li> Which one is the correct one to use? \n",
    "    <li> What do you notice? What does this tell you about the difference in application of the $t$ and $z$ statistic?\n",
    "    </ul>\n",
    "<li>  At what temperature should we consider someone's temperature to be \"abnormal\"?\n",
    "    <ul>\n",
    "    <li> As in the previous example, try calculating everything using the boostrap approach, as well as the frequentist approach.\n",
    "    <li> Start by computing the margin of error and confidence interval. When calculating the confidence interval, keep in mind that you should use the appropriate formula for one draw, and not N draws.\n",
    "    </ul>\n",
    "<li>  Is there a significant difference between males and females in normal temperature?\n",
    "    <ul>\n",
    "    <li> What testing approach did you use and why?\n",
    "    <li> Write a story with your conclusion in the context of the original problem.\n",
    "    </ul>\n",
    "</ol>\n",
    "\n",
    "You can include written notes in notebook cells using Markdown: \n",
    "   - In the control panel at the top, choose Cell > Cell Type > Markdown\n",
    "   - Markdown syntax: http://nestacms.com/docs/creating-content/markdown-cheat-sheet\n",
    "\n",
    "#### Resources\n",
    "\n",
    "+ Information and data sources: http://www.amstat.org/publications/jse/datasets/normtemp.txt, http://www.amstat.org/publications/jse/jse_data_archive.htm\n",
    "+ Markdown syntax: http://nestacms.com/docs/creating-content/markdown-cheat-sheet\n",
    "\n",
    "****"
   ]
  },
  {
   "cell_type": "code",
   "execution_count": 400,
   "metadata": {
    "collapsed": true
   },
   "outputs": [],
   "source": [
    "import pandas as pd\n",
    "import seaborn as sns\n",
    "import matplotlib.pyplot as plt\n",
    "import matplotlib\n",
    "import numpy as np\n",
    "\n",
    "df = pd.read_csv('data/human_body_temperature.csv')"
   ]
  },
  {
   "cell_type": "markdown",
   "metadata": {},
   "source": [
    "Let's start the analysis with looking at the data. It has three columns, with total of 130 observations. "
   ]
  },
  {
   "cell_type": "code",
   "execution_count": 401,
   "metadata": {},
   "outputs": [
    {
     "data": {
      "text/html": [
       "<div>\n",
       "<style>\n",
       "    .dataframe thead tr:only-child th {\n",
       "        text-align: right;\n",
       "    }\n",
       "\n",
       "    .dataframe thead th {\n",
       "        text-align: left;\n",
       "    }\n",
       "\n",
       "    .dataframe tbody tr th {\n",
       "        vertical-align: top;\n",
       "    }\n",
       "</style>\n",
       "<table border=\"1\" class=\"dataframe\">\n",
       "  <thead>\n",
       "    <tr style=\"text-align: right;\">\n",
       "      <th></th>\n",
       "      <th>temperature</th>\n",
       "      <th>gender</th>\n",
       "      <th>heart_rate</th>\n",
       "    </tr>\n",
       "  </thead>\n",
       "  <tbody>\n",
       "    <tr>\n",
       "      <th>0</th>\n",
       "      <td>99.3</td>\n",
       "      <td>F</td>\n",
       "      <td>68.0</td>\n",
       "    </tr>\n",
       "    <tr>\n",
       "      <th>1</th>\n",
       "      <td>98.4</td>\n",
       "      <td>F</td>\n",
       "      <td>81.0</td>\n",
       "    </tr>\n",
       "    <tr>\n",
       "      <th>2</th>\n",
       "      <td>97.8</td>\n",
       "      <td>M</td>\n",
       "      <td>73.0</td>\n",
       "    </tr>\n",
       "    <tr>\n",
       "      <th>3</th>\n",
       "      <td>99.2</td>\n",
       "      <td>F</td>\n",
       "      <td>66.0</td>\n",
       "    </tr>\n",
       "    <tr>\n",
       "      <th>4</th>\n",
       "      <td>98.0</td>\n",
       "      <td>F</td>\n",
       "      <td>73.0</td>\n",
       "    </tr>\n",
       "  </tbody>\n",
       "</table>\n",
       "</div>"
      ],
      "text/plain": [
       "   temperature gender  heart_rate\n",
       "0         99.3      F        68.0\n",
       "1         98.4      F        81.0\n",
       "2         97.8      M        73.0\n",
       "3         99.2      F        66.0\n",
       "4         98.0      F        73.0"
      ]
     },
     "execution_count": 401,
     "metadata": {},
     "output_type": "execute_result"
    }
   ],
   "source": [
    "df.head()"
   ]
  },
  {
   "cell_type": "code",
   "execution_count": 402,
   "metadata": {},
   "outputs": [
    {
     "name": "stdout",
     "output_type": "stream",
     "text": [
      "<class 'pandas.core.frame.DataFrame'>\n",
      "RangeIndex: 130 entries, 0 to 129\n",
      "Data columns (total 3 columns):\n",
      "temperature    130 non-null float64\n",
      "gender         130 non-null object\n",
      "heart_rate     130 non-null float64\n",
      "dtypes: float64(2), object(1)\n",
      "memory usage: 3.1+ KB\n"
     ]
    }
   ],
   "source": [
    "df.info()"
   ]
  },
  {
   "cell_type": "code",
   "execution_count": 403,
   "metadata": {},
   "outputs": [
    {
     "data": {
      "text/html": [
       "<div>\n",
       "<style>\n",
       "    .dataframe thead tr:only-child th {\n",
       "        text-align: right;\n",
       "    }\n",
       "\n",
       "    .dataframe thead th {\n",
       "        text-align: left;\n",
       "    }\n",
       "\n",
       "    .dataframe tbody tr th {\n",
       "        vertical-align: top;\n",
       "    }\n",
       "</style>\n",
       "<table border=\"1\" class=\"dataframe\">\n",
       "  <thead>\n",
       "    <tr style=\"text-align: right;\">\n",
       "      <th></th>\n",
       "      <th>temperature</th>\n",
       "      <th>heart_rate</th>\n",
       "    </tr>\n",
       "  </thead>\n",
       "  <tbody>\n",
       "    <tr>\n",
       "      <th>count</th>\n",
       "      <td>130.000000</td>\n",
       "      <td>130.000000</td>\n",
       "    </tr>\n",
       "    <tr>\n",
       "      <th>mean</th>\n",
       "      <td>98.249231</td>\n",
       "      <td>73.761538</td>\n",
       "    </tr>\n",
       "    <tr>\n",
       "      <th>std</th>\n",
       "      <td>0.733183</td>\n",
       "      <td>7.062077</td>\n",
       "    </tr>\n",
       "    <tr>\n",
       "      <th>min</th>\n",
       "      <td>96.300000</td>\n",
       "      <td>57.000000</td>\n",
       "    </tr>\n",
       "    <tr>\n",
       "      <th>25%</th>\n",
       "      <td>97.800000</td>\n",
       "      <td>69.000000</td>\n",
       "    </tr>\n",
       "    <tr>\n",
       "      <th>50%</th>\n",
       "      <td>98.300000</td>\n",
       "      <td>74.000000</td>\n",
       "    </tr>\n",
       "    <tr>\n",
       "      <th>75%</th>\n",
       "      <td>98.700000</td>\n",
       "      <td>79.000000</td>\n",
       "    </tr>\n",
       "    <tr>\n",
       "      <th>max</th>\n",
       "      <td>100.800000</td>\n",
       "      <td>89.000000</td>\n",
       "    </tr>\n",
       "  </tbody>\n",
       "</table>\n",
       "</div>"
      ],
      "text/plain": [
       "       temperature  heart_rate\n",
       "count   130.000000  130.000000\n",
       "mean     98.249231   73.761538\n",
       "std       0.733183    7.062077\n",
       "min      96.300000   57.000000\n",
       "25%      97.800000   69.000000\n",
       "50%      98.300000   74.000000\n",
       "75%      98.700000   79.000000\n",
       "max     100.800000   89.000000"
      ]
     },
     "execution_count": 403,
     "metadata": {},
     "output_type": "execute_result"
    }
   ],
   "source": [
    "df.describe()"
   ]
  },
  {
   "cell_type": "code",
   "execution_count": 407,
   "metadata": {},
   "outputs": [
    {
     "data": {
      "image/png": "[encoded data removed]",
      "text/plain": [
       "<matplotlib.figure.Figure at 0x1126a24e0>"
      ]
     },
     "metadata": {},
     "output_type": "display_data"
    }
   ],
   "source": [
    "sns.boxplot(df.temperature,data=df);\n",
    "plt.show()"
   ]
  },
  {
   "cell_type": "markdown",
   "metadata": {},
   "source": [
    "The data has a mean of 98.25 °F with max value at around 100.8 °F and min at around 96.3 °F. From the boxplot we can see that there are a few points that are further than 1.5 IRQ from the first and third quintiles, and could be considered outliers. We don't have more information about the data collection, therefore we will keep all the points."
   ]
  },
  {
   "cell_type": "markdown",
   "metadata": {},
   "source": [
    "## 1. \n",
    "#### Is the distribution of body temperatures normal?\n",
    "<p> Let's start wit looking at the histogram of the temperature data."
   ]
  },
  {
   "cell_type": "code",
   "execution_count": 364,
   "metadata": {},
   "outputs": [
    {
     "data": {
      "image/png": "[encoded data removed]",
      "text/plain": [
       "<matplotlib.figure.Figure at 0x11227c080>"
      ]
     },
     "metadata": {},
     "output_type": "display_data"
    }
   ],
   "source": [
    "sns.set()\n",
    "plt.rcParams[\"patch.force_edgecolor\"] = True\n",
    "plt.hist(df['temperature'],bins=15);\n",
    "plt.xlabel('Temperature(°F)');\n",
    "plt.ylabel('Count');\n",
    "plt.show()"
   ]
  },
  {
   "cell_type": "markdown",
   "metadata": {},
   "source": [
    "The shape of the histogram has a peak around the middle and most observations are gathered in the middle of the graph, nevertheless it is hard to be certain that the data follows the normal distribution.\n",
    "<br>\n",
    "Also there is fewer values on the right side of the graph, which makes bar plot even more difficult for visual inspection. \n",
    "<p> To be more certain let's plot ECDF of the temperature data vs. CDF of the normal curve. "
   ]
  },
  {
   "cell_type": "code",
   "execution_count": 412,
   "metadata": {
    "collapsed": true
   },
   "outputs": [],
   "source": [
    "#Defining ECDF function\n",
    "def edcf(data):\n",
    "    x = np.sort(data)\n",
    "    y = np.arange(1, len(x)+1)/len(x)\n",
    "    return x,y "
   ]
  },
  {
   "cell_type": "code",
   "execution_count": 413,
   "metadata": {
    "collapsed": true
   },
   "outputs": [],
   "source": [
    "#calculating EDCF values for the temperature data \n",
    "x,y = edcf(df['temperature'])"
   ]
  },
  {
   "cell_type": "code",
   "execution_count": 414,
   "metadata": {
    "collapsed": true
   },
   "outputs": [],
   "source": [
    "# Calculating the mean and standard deviation (std) of the temperature sample: tmean, tstd\n",
    "tmean = np.mean(x)\n",
    "tstd = np.std(x)"
   ]
  },
  {
   "cell_type": "code",
   "execution_count": 417,
   "metadata": {
    "collapsed": true
   },
   "outputs": [],
   "source": [
    "#Calculating data points for the normal distribution with parameters equal to mean and std of the sample. \n",
    "normaldata = np.random.normal(tmean,tstd,100000)\n",
    "\n",
    "#Calculating DCF of the normal distribution for the mean and std of the temperature sample \n",
    "x_theor,y_theor = edcf(normaldata)"
   ]
  },
  {
   "cell_type": "code",
   "execution_count": 418,
   "metadata": {},
   "outputs": [
    {
     "data": {
      "image/png": "[encoded data removed]",
      "text/plain": [
       "<matplotlib.figure.Figure at 0x114523940>"
      ]
     },
     "metadata": {},
     "output_type": "display_data"
    }
   ],
   "source": [
    "# plotting EDCF and DCF \n",
    "plt.plot(x,y, marker = '.',linestyle = 'none',color = 'blue');\n",
    "plt.plot(x_theor,y_theor,color = 'red');\n",
    "plt.margins(0.02);\n",
    "plt.xlabel('Temperature');\n",
    "plt.ylabel(\"ECDF\");\n",
    "plt.legend(['Data','Theory'])\n",
    "plt.show()\n"
   ]
  },
  {
   "cell_type": "markdown",
   "metadata": {},
   "source": [
    "One can see that both plots overlap in the most of the data region with small divergence towards the higher temperature (where there is fewer data points coming from the temperature sample). Nevertheless, it seems like the data is indeed normally distributed. \n",
    "<p> Addtionally,one can use another visual inspection method i.e. percentiles correlation. Percentiles from the sample and from the normal distribution should be strongly lineary correlated."
   ]
  },
  {
   "cell_type": "code",
   "execution_count": 419,
   "metadata": {},
   "outputs": [
    {
     "data": {
      "text/html": [
       "<div>\n",
       "<style>\n",
       "    .dataframe thead tr:only-child th {\n",
       "        text-align: right;\n",
       "    }\n",
       "\n",
       "    .dataframe thead th {\n",
       "        text-align: left;\n",
       "    }\n",
       "\n",
       "    .dataframe tbody tr th {\n",
       "        vertical-align: top;\n",
       "    }\n",
       "</style>\n",
       "<table border=\"1\" class=\"dataframe\">\n",
       "  <thead>\n",
       "    <tr style=\"text-align: right;\">\n",
       "      <th></th>\n",
       "      <th>normalqq</th>\n",
       "      <th>tempqq</th>\n",
       "    </tr>\n",
       "  </thead>\n",
       "  <tbody>\n",
       "    <tr>\n",
       "      <th>normalqq</th>\n",
       "      <td>1.000000</td>\n",
       "      <td>0.996914</td>\n",
       "    </tr>\n",
       "    <tr>\n",
       "      <th>tempqq</th>\n",
       "      <td>0.996914</td>\n",
       "      <td>1.000000</td>\n",
       "    </tr>\n",
       "  </tbody>\n",
       "</table>\n",
       "</div>"
      ],
      "text/plain": [
       "          normalqq    tempqq\n",
       "normalqq  1.000000  0.996914\n",
       "tempqq    0.996914  1.000000"
      ]
     },
     "execution_count": 419,
     "metadata": {},
     "output_type": "execute_result"
    }
   ],
   "source": [
    "#percentiles correlation test\n",
    "percentiles =[5,15,25,50,65,75,95]\n",
    "tempqq = np.percentile(x,percentiles)\n",
    "normalqq = np.percentile(x_theor,percentiles)\n",
    "df2 = pd.DataFrame({'tempqq':tempqq,'normalqq':normalqq})\n",
    "df2.corr()"
   ]
  },
  {
   "cell_type": "code",
   "execution_count": 420,
   "metadata": {},
   "outputs": [
    {
     "data": {
      "image/png": "[encoded data removed]",
      "text/plain": [
       "<matplotlib.figure.Figure at 0x114027be0>"
      ]
     },
     "metadata": {},
     "output_type": "display_data"
    }
   ],
   "source": [
    "sns.regplot(tempqq,normalqq,data=df2);\n",
    "plt.xlabel('Temperature Data Percentiles')\n",
    "plt.ylabel('Normal Distribution Percentiles')\n",
    "plt.show()"
   ]
  },
  {
   "cell_type": "markdown",
   "metadata": {},
   "source": [
    "One can see from the graph and the correlation table that the data points are strongly correlated (>0.99%), once again that cofirms normality of the data. "
   ]
  },
  {
   "cell_type": "markdown",
   "metadata": {},
   "source": [
    "#### K-S Goodness of Fit test\n",
    "To verify quantiatively the normality of the distribution Kolmogorov-Smirnov Goodness of Fit Test will be used i.e. the following hypotheses will be tested at the significance level of 5%:\n",
    "* Ho: The sample data are not significantly different than a normal population.\n",
    "* Ha: The sample data are significantly different than a normal population.\n"
   ]
  },
  {
   "cell_type": "code",
   "execution_count": 372,
   "metadata": {
    "collapsed": true
   },
   "outputs": [],
   "source": [
    "from scipy import stats"
   ]
  },
  {
   "cell_type": "code",
   "execution_count": 373,
   "metadata": {},
   "outputs": [
    {
     "name": "stdout",
     "output_type": "stream",
     "text": [
      "P value of Goodness of Fit using K-S test is  0.664532017284\n"
     ]
    }
   ],
   "source": [
    "_, p_value = stats.kstest(x, 'norm',args=(tmean, tstd))\n",
    "print(\"P value of Goodness of Fit using K-S test is \",p_value)"
   ]
  },
  {
   "cell_type": "markdown",
   "metadata": {},
   "source": [
    "The p-value of 66.5% indicates that we can't reject the null hypothesis (Ho) therefore we confirmed the visual inspection that the body temperature sample is normally distributed."
   ]
  },
  {
   "cell_type": "markdown",
   "metadata": {},
   "source": [
    "## 2. \n",
    "#### Is the sample size large? \n",
    "<p> The data contains 130 records. Normally the Assumption of Normality is valid if the data has more 30 samples, therefore, the sample is large enough to use normal distribution in hypothesis testing</p>\n",
    "#### Are the observations independent?\n",
    "<p> There is not much information about how the observations were made (patients, volunteers etc.), therefore it is hard to tell if there is any dependencies between observations. If the data collection didn't follow any biases, we can assume that there was no lurking variables in the data."
   ]
  },
  {
   "cell_type": "markdown",
   "metadata": {},
   "source": [
    "## 3.\n",
    "#### Is the true population mean really 98.6 degrees F?\n",
    "<br> To answer this question we need to do hypothesis testing. We will start with boostrap testing, by creating 100000 replicates.\n",
    "<br>\n",
    "Then, we will test two hypotheses:\n",
    "<br>\n",
    "- Ho: The population mean is equal to 98.6 F (u = 98.6 °F)\n",
    "- Ha: The population mean is not equal to 98.6 F (u != 98.6 °F) \n",
    "- We will set a signifcance level at 0.05"
   ]
  },
  {
   "cell_type": "code",
   "execution_count": 421,
   "metadata": {
    "collapsed": true
   },
   "outputs": [],
   "source": [
    "#boostrapping\n",
    "size = 100000\n",
    "bs_replicates = np.empty(size)\n",
    "for i in range(size):\n",
    "    bs = np.random.choice(x,len(x))\n",
    "    bs_replicates[i] = np.mean(bs)"
   ]
  },
  {
   "cell_type": "code",
   "execution_count": 430,
   "metadata": {},
   "outputs": [
    {
     "data": {
      "image/png": "[encoded data removed]",
      "text/plain": [
       "<matplotlib.figure.Figure at 0x112527358>"
      ]
     },
     "metadata": {},
     "output_type": "display_data"
    }
   ],
   "source": [
    "#plotting the boostrap replicates histogram\n",
    "\n",
    "#plt.rcParams[\"patch.force_edgecolor\"] = True\n",
    "plt.hist(bs_replicates,bins=50,normed=True);\n",
    "plt.plot([98.6,98.6],[0,6]);\n",
    "plt.annotate(xy=(98.55,2),s='98.6 °F');\n",
    "plt.xlabel('Mean Temperature (°F)');\n",
    "plt.ylabel('PDF');\n",
    "plt.show()"
   ]
  },
  {
   "cell_type": "code",
   "execution_count": 431,
   "metadata": {},
   "outputs": [
    {
     "name": "stdout",
     "output_type": "stream",
     "text": [
      "p-value is equal to 0.0\n"
     ]
    }
   ],
   "source": [
    "p_value_bs = (sum(bs_replicates >= u )/len(bs_replicates))\n",
    "print(\"p-value is equal to\",p_value_bs)"
   ]
  },
  {
   "cell_type": "markdown",
   "metadata": {},
   "source": [
    "We can see that 98.6 is very extreme and p-value equal to 0.0 indicates that even one replicate wasn't as extreme as claimed population mean."
   ]
  },
  {
   "cell_type": "markdown",
   "metadata": {},
   "source": [
    "In the second we will perform frequentist statistical testing, we will set up two again hypotheses:\n",
    "- Ho: The population mean is equal to 98.6 F (u = 98.6 F)\n",
    "- Ha: The population mean is not equal to 98.6 F (u != 98.6 F) \n",
    "- We will set a signifcance level at 0.05\n",
    "- We will use one sample two-tailed test, since we are comparing one sample to the fixed value, and we are not testing in any particular direction.\n",
    "- Since the sample size is big enough, and the data is normally distributed we can calculate z-statistic.\n",
    "- We will use sample standard deviation tstd because we don't have population standard devation, but the sample is big enough (above 30 observations) to follow this approach. \n",
    "- We will calculate t-statistic for comparison."
   ]
  },
  {
   "cell_type": "code",
   "execution_count": 377,
   "metadata": {},
   "outputs": [
    {
     "name": "stdout",
     "output_type": "stream",
     "text": [
      "p-value for z-statistic is equal to  2.17615758294e-08 and for t-statistic is equal to  2.41063204156e-07\n"
     ]
    }
   ],
   "source": [
    "#Population mean: u\n",
    "u = 98.6\n",
    "# calculating z-statistic\n",
    "z = (tmean - u)/(tstd /np.sqrt(len(x)))\n",
    "p_value_z=stats.norm.cdf(z) \n",
    "#calculating t-statitics\n",
    "t,p_value_t =stats.ttest_1samp(x,u)\n",
    "print('p-value for z-statistic is equal to ',p_value_z, 'and for t-statistic is equal to ',p_value_t)"
   ]
  },
  {
   "cell_type": "markdown",
   "metadata": {},
   "source": [
    "At signifcance level 0.05 we can reject null hypothesis, and accept alternative hypothesis, that the population mean is not equal to 98.6. The p-value of t-statistic is 10 times larger, which is due to the fact that t-statistic is generally more conservative that z-statistic. "
   ]
  },
  {
   "cell_type": "markdown",
   "metadata": {},
   "source": [
    "## 4.\n",
    "#### Draw a small sample of size 10 from the data and repeat both frequentist tests."
   ]
  },
  {
   "cell_type": "code",
   "execution_count": 437,
   "metadata": {
    "collapsed": true
   },
   "outputs": [],
   "source": [
    "#selecting 10 measurments from the sample\n",
    "x_10 = np.random.choice(x, size =10)"
   ]
  },
  {
   "cell_type": "code",
   "execution_count": 438,
   "metadata": {},
   "outputs": [
    {
     "data": {
      "text/plain": [
       "array([ 97.8,  99.2,  97.4,  97.1,  98.4,  98.2,  98.7,  97.8,  98.1,  97.9])"
      ]
     },
     "execution_count": 438,
     "metadata": {},
     "output_type": "execute_result"
    }
   ],
   "source": [
    "x_10"
   ]
  },
  {
   "cell_type": "code",
   "execution_count": 439,
   "metadata": {},
   "outputs": [
    {
     "name": "stdout",
     "output_type": "stream",
     "text": [
      "p-value for z-statistic is equal to  1.26319186484e-26 and for t-statistic is equal to  0.020947342556\n"
     ]
    }
   ],
   "source": [
    "z_10 = (np.mean(x_10) - u)/(np.std(x_10) /np.sqrt(len(x)))\n",
    "p_value_z=stats.norm.cdf(z_10) \n",
    "#calculating t-statitics\n",
    "t,p_value_t =stats.ttest_1samp(x_10,u)\n",
    "print('p-value for z-statistic is equal to ',p_value_z, 'and for t-statistic is equal to ',p_value_t)"
   ]
  },
  {
   "cell_type": "markdown",
   "metadata": {},
   "source": [
    "For small samples (n < 30) z-statistic is not suitable and should be replaced with t-statistic which is more conservative. Here we can see that for small samples p-values differ dramatically."
   ]
  },
  {
   "cell_type": "markdown",
   "metadata": {},
   "source": [
    "## 5.\n",
    "#### At what temperature should we consider someone's temperature to be \"abnormal\"?\n",
    "We can assume that abnormal temperature is the one that different from the population mean more than margin of error that establishes the confidence interval around the mean. \n",
    "<p> In the boostrap approach we examine percentiles for a given confidence level (95%) i.e. 2.5% and 97.5 percentile of the means of the replicates. "
   ]
  },
  {
   "cell_type": "code",
   "execution_count": 440,
   "metadata": {},
   "outputs": [
    {
     "name": "stdout",
     "output_type": "stream",
     "text": [
      "The confidance interval is equal to  [ 98.12307692  98.37461538]\n"
     ]
    }
   ],
   "source": [
    "#bootstraping \n",
    "CI_rep = np.percentile(bs_replicates,[2.5,97.5])\n",
    "print(\"The confidance interval is equal to \", CI_rep)"
   ]
  },
  {
   "cell_type": "markdown",
   "metadata": {},
   "source": [
    "At 95% confidence level the normal body temperature lies between 98.1 and 98.4 F.\n",
    "<p> Let's now try frequentist approach. "
   ]
  },
  {
   "cell_type": "code",
   "execution_count": 448,
   "metadata": {},
   "outputs": [
    {
     "name": "stdout",
     "output_type": "stream",
     "text": [
      "[98.123679804428193, 98.374781734033363]\n"
     ]
    }
   ],
   "source": [
    "# frequentist approach\n",
    "#calculating margin of error: M\n",
    "z = 1.96\n",
    "M = tstd/np.sqrt(len(x))*z\n",
    "#calculating confidence interval:\n",
    "CI = [tmean-M,tmean+M]\n",
    "print(CI)"
   ]
  },
  {
   "cell_type": "markdown",
   "metadata": {},
   "source": [
    "The result shows that at 95% confidence level the normal body temperature lies between 98.12 and 98.38 F, which seems similar to what was calculated in the boostrap approach."
   ]
  },
  {
   "cell_type": "markdown",
   "metadata": {},
   "source": [
    "## 6. \n",
    "#### Is there a significant difference between males and females in normal temperature?\n",
    "Let's look at the data by gender. There is exactly the same number of observations for males and females."
   ]
  },
  {
   "cell_type": "code",
   "execution_count": 449,
   "metadata": {},
   "outputs": [
    {
     "data": {
      "text/html": [
       "<div>\n",
       "<style>\n",
       "    .dataframe thead tr:only-child th {\n",
       "        text-align: right;\n",
       "    }\n",
       "\n",
       "    .dataframe thead th {\n",
       "        text-align: left;\n",
       "    }\n",
       "\n",
       "    .dataframe tbody tr th {\n",
       "        vertical-align: top;\n",
       "    }\n",
       "</style>\n",
       "<table border=\"1\" class=\"dataframe\">\n",
       "  <thead>\n",
       "    <tr>\n",
       "      <th></th>\n",
       "      <th colspan=\"8\" halign=\"left\">heart_rate</th>\n",
       "      <th colspan=\"8\" halign=\"left\">temperature</th>\n",
       "    </tr>\n",
       "    <tr>\n",
       "      <th></th>\n",
       "      <th>count</th>\n",
       "      <th>mean</th>\n",
       "      <th>std</th>\n",
       "      <th>min</th>\n",
       "      <th>25%</th>\n",
       "      <th>50%</th>\n",
       "      <th>75%</th>\n",
       "      <th>max</th>\n",
       "      <th>count</th>\n",
       "      <th>mean</th>\n",
       "      <th>std</th>\n",
       "      <th>min</th>\n",
       "      <th>25%</th>\n",
       "      <th>50%</th>\n",
       "      <th>75%</th>\n",
       "      <th>max</th>\n",
       "    </tr>\n",
       "    <tr>\n",
       "      <th>gender</th>\n",
       "      <th></th>\n",
       "      <th></th>\n",
       "      <th></th>\n",
       "      <th></th>\n",
       "      <th></th>\n",
       "      <th></th>\n",
       "      <th></th>\n",
       "      <th></th>\n",
       "      <th></th>\n",
       "      <th></th>\n",
       "      <th></th>\n",
       "      <th></th>\n",
       "      <th></th>\n",
       "      <th></th>\n",
       "      <th></th>\n",
       "      <th></th>\n",
       "    </tr>\n",
       "  </thead>\n",
       "  <tbody>\n",
       "    <tr>\n",
       "      <th>F</th>\n",
       "      <td>65.0</td>\n",
       "      <td>74.153846</td>\n",
       "      <td>8.105227</td>\n",
       "      <td>57.0</td>\n",
       "      <td>68.0</td>\n",
       "      <td>76.0</td>\n",
       "      <td>80.0</td>\n",
       "      <td>89.0</td>\n",
       "      <td>65.0</td>\n",
       "      <td>98.393846</td>\n",
       "      <td>0.743488</td>\n",
       "      <td>96.4</td>\n",
       "      <td>98.0</td>\n",
       "      <td>98.4</td>\n",
       "      <td>98.8</td>\n",
       "      <td>100.8</td>\n",
       "    </tr>\n",
       "    <tr>\n",
       "      <th>M</th>\n",
       "      <td>65.0</td>\n",
       "      <td>73.369231</td>\n",
       "      <td>5.875184</td>\n",
       "      <td>58.0</td>\n",
       "      <td>70.0</td>\n",
       "      <td>73.0</td>\n",
       "      <td>78.0</td>\n",
       "      <td>86.0</td>\n",
       "      <td>65.0</td>\n",
       "      <td>98.104615</td>\n",
       "      <td>0.698756</td>\n",
       "      <td>96.3</td>\n",
       "      <td>97.6</td>\n",
       "      <td>98.1</td>\n",
       "      <td>98.6</td>\n",
       "      <td>99.5</td>\n",
       "    </tr>\n",
       "  </tbody>\n",
       "</table>\n",
       "</div>"
      ],
      "text/plain": [
       "       heart_rate                                                     \\\n",
       "            count       mean       std   min   25%   50%   75%   max   \n",
       "gender                                                                 \n",
       "F            65.0  74.153846  8.105227  57.0  68.0  76.0  80.0  89.0   \n",
       "M            65.0  73.369231  5.875184  58.0  70.0  73.0  78.0  86.0   \n",
       "\n",
       "       temperature                                                      \n",
       "             count       mean       std   min   25%   50%   75%    max  \n",
       "gender                                                                  \n",
       "F             65.0  98.393846  0.743488  96.4  98.0  98.4  98.8  100.8  \n",
       "M             65.0  98.104615  0.698756  96.3  97.6  98.1  98.6   99.5  "
      ]
     },
     "execution_count": 449,
     "metadata": {},
     "output_type": "execute_result"
    }
   ],
   "source": [
    "df.groupby('gender').describe()"
   ]
  },
  {
   "cell_type": "markdown",
   "metadata": {},
   "source": [
    "Let's first compare EDCF graphs for men and women."
   ]
  },
  {
   "cell_type": "code",
   "execution_count": 385,
   "metadata": {
    "collapsed": true
   },
   "outputs": [],
   "source": [
    "xm, ym = edcf(men)\n",
    "xw, yw = edcf(women)"
   ]
  },
  {
   "cell_type": "code",
   "execution_count": 386,
   "metadata": {},
   "outputs": [
    {
     "data": {
      "image/png": "[encoded data removed]",
      "text/plain": [
       "<matplotlib.figure.Figure at 0x111ccdf60>"
      ]
     },
     "metadata": {},
     "output_type": "display_data"
    }
   ],
   "source": [
    "plt.plot(xm,ym, marker = '.',linestyle = 'none',color = 'orange');\n",
    "plt.plot(xw,yw, marker = '.',linestyle = 'none',color = 'green');\n",
    "plt.margins(0.02);\n",
    "plt.xlabel('Temperature');\n",
    "plt.ylabel(\"ECDF\");\n",
    "plt.legend(['Men','Women'])\n",
    "plt.show()"
   ]
  },
  {
   "cell_type": "markdown",
   "metadata": {},
   "source": [
    "One can see that the temperature distributions for men and women are different. "
   ]
  },
  {
   "cell_type": "markdown",
   "metadata": {},
   "source": [
    "Our hypotheses are:\n",
    "- Ho: Mean body temperature for men and women is the same\n",
    "- Ha: Mean body temperature for men and women is different\n",
    "<br>\n",
    "- the signficance level is 5%\n",
    "<br>\n",
    "We will firt perform two-sided test for two population means, since the distributions for both sexes are different, therefore their variances are different too. For that reason we will use t-statistic to calculate p-value for our hypotheses. "
   ]
  },
  {
   "cell_type": "code",
   "execution_count": 450,
   "metadata": {},
   "outputs": [
    {
     "name": "stdout",
     "output_type": "stream",
     "text": [
      "P-value is equal to  0.0239382641829\n"
     ]
    }
   ],
   "source": [
    "men = df.temperature[df.gender == \"M\"]\n",
    "women = df.temperature[df.gender == \"F\"]\n",
    "_,p_value=stats.ttest_ind(men,women,equal_var=False)\n",
    "print(\"P-value is equal to \",p_value)"
   ]
  },
  {
   "cell_type": "markdown",
   "metadata": {},
   "source": [
    "P-value is below 5% (p-value = 2.4%), therefore we can reject null hypothesis and accept alternative hypothesis that mean bodytemperature between men and women are different. \n",
    "<p> In the second approach we will use boostrapping to see if two distributions are indeed different.\n",
    "<br> First,we will shift the mean for each sex to the mean of the entire sample and we will see if the emperical mean difference is extereme enough to reject null hypothesis. "
   ]
  },
  {
   "cell_type": "code",
   "execution_count": 452,
   "metadata": {
    "collapsed": true
   },
   "outputs": [],
   "source": [
    "#boostrapping\n",
    "size = 100000\n",
    "mean_diff = np.mean(xm) - np.mean(xw)\n",
    "xm_shift = xm - np.mean(xm) + tmean\n",
    "xw_shift = xw - np.mean(xw) + tmean\n",
    "bs_replicates_m = np.empty(size)\n",
    "bs_replicates_w = np.empty(size)\n",
    "for i in range(size):\n",
    "    bs = np.random.choice(xm_shift,len(xm))\n",
    "    bs_replicates_m[i] = np.mean(bs)\n",
    "    \n",
    "    bs = np.random.choice(xw_shift,len(xw))\n",
    "    bs_replicates_w[i] = np.mean(bs)\n",
    "    \n",
    "bs_replicates = bs_replicates_m - bs_replicates_w\n",
    "\n",
    "p_value = np.sum(bs_replicates <= mean_diff)/len(bs_replicates)"
   ]
  },
  {
   "cell_type": "code",
   "execution_count": 453,
   "metadata": {},
   "outputs": [
    {
     "data": {
      "image/png": "[encoded data removed]",
      "text/plain": [
       "<matplotlib.figure.Figure at 0x112528e10>"
      ]
     },
     "metadata": {},
     "output_type": "display_data"
    }
   ],
   "source": [
    "#plt.rcParams[\"patch.force_edgecolor\"] = True\n",
    "plt.hist(bs_replicates,bins=50,normed=True);\n",
    "plt.xlabel('Temperature Mean Difference (F)');\n",
    "plt.plot([mean_diff,mean_diff],[0,3])\n",
    "plt.annotate(xy=(mean_diff,1),s='Empirical mean difference')\n",
    "plt.ylabel('PDF');\n",
    "plt.show()"
   ]
  },
  {
   "cell_type": "code",
   "execution_count": 454,
   "metadata": {},
   "outputs": [
    {
     "name": "stdout",
     "output_type": "stream",
     "text": [
      "P-value is equal to  0.01053\n"
     ]
    }
   ],
   "source": [
    "print(\"P-value is equal to \",p_value)"
   ]
  },
  {
   "cell_type": "markdown",
   "metadata": {
    "collapsed": true
   },
   "source": [
    "As we can see the value is lower that significance level (5%), therefore again we can reject null hypothesis and accept the alternate hypothesis that there significant difference in body temperature between men and women."
   ]
  }
 ],
 "metadata": {
  "kernelspec": {
   "display_name": "Python 3",
   "language": "python",
   "name": "python3"
  },
  "language_info": {
   "codemirror_mode": {
    "name": "ipython",
    "version": 3
   },
   "file_extension": ".py",
   "mimetype": "text/x-python",
   "name": "python",
   "nbconvert_exporter": "python",
   "pygments_lexer": "ipython3",
   "version": "3.6.1"
  }
 },
 "nbformat": 4,
 "nbformat_minor": 1
}
