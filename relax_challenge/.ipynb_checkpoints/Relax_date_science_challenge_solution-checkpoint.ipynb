{
 "cells": [
  {
   "cell_type": "code",
   "execution_count": 1,
   "metadata": {
    "collapsed": false,
    "deletable": true,
    "editable": true,
    "scrolled": true
   },
   "outputs": [
    {
     "data": {
      "text/html": [
       "<script>\n",
       "code_show=true; \n",
       "function code_toggle() {\n",
       " if (code_show){\n",
       " $('div.input').hide();\n",
       " } else {\n",
       " $('div.input').show();\n",
       " }\n",
       " code_show = !code_show\n",
       "} \n",
       "$( document ).ready(code_toggle);\n",
       "</script>\n",
       "<form action=\"javascript:code_toggle()\"><input type=\"submit\" value=\"Click here to toggle on/off the raw code.\"></form>"
      ],
      "text/plain": [
       "<IPython.core.display.HTML object>"
      ]
     },
     "execution_count": 1,
     "metadata": {},
     "output_type": "execute_result"
    }
   ],
   "source": [
    "from IPython.display import HTML\n",
    "\n",
    "HTML('''<script>\n",
    "code_show=true; \n",
    "function code_toggle() {\n",
    " if (code_show){\n",
    " $('div.input').hide();\n",
    " } else {\n",
    " $('div.input').show();\n",
    " }\n",
    " code_show = !code_show\n",
    "} \n",
    "$( document ).ready(code_toggle);\n",
    "</script>\n",
    "<form action=\"javascript:code_toggle()\"><input type=\"submit\" value=\"Click here to toggle on/off the raw code.\"></form>''')"
   ]
  },
  {
   "cell_type": "code",
   "execution_count": 400,
   "metadata": {
    "collapsed": true,
    "deletable": true,
    "editable": true
   },
   "outputs": [],
   "source": [
    "import numpy as np\n",
    "import pandas as pd\n",
    "import matplotlib.pyplot as plt\n",
    "import seaborn as sns\n",
    "%matplotlib inline \n",
    "\n",
    "sns.set()\n",
    "sns.set_style(\"white\")"
   ]
  },
  {
   "cell_type": "code",
   "execution_count": 69,
   "metadata": {
    "collapsed": false,
    "deletable": true,
    "editable": true
   },
   "outputs": [],
   "source": [
    "dateparser = lambda x: pd.datetime.strptime(x, '%Y-%m-%d %H:%M:%S')            \n",
    "eng=pd.read_csv('takehome_user_engagement.csv',parse_dates=['time_stamp']\n",
    "                , date_parser=dateparser)\n",
    "\n",
    "                "
   ]
  },
  {
   "cell_type": "code",
   "execution_count": 109,
   "metadata": {
    "collapsed": false
   },
   "outputs": [],
   "source": [
    "#creating date column\n",
    "eng['date']=eng.time_stamp.dt.date"
   ]
  },
  {
   "cell_type": "code",
   "execution_count": 116,
   "metadata": {
    "collapsed": false,
    "deletable": true,
    "editable": true,
    "scrolled": true
   },
   "outputs": [],
   "source": [
    "# assigning 1 to every day that user logged in\n",
    "eng2=pd.DataFrame(eng.groupby(['user_id','date'])['visited'].min().reset_index())\n",
    "eng2['date'] = pd.to_datetime(eng2['date'], format='%Y-%m-%d')"
   ]
  },
  {
   "cell_type": "code",
   "execution_count": 129,
   "metadata": {
    "collapsed": false
   },
   "outputs": [],
   "source": [
    "#couting how many days user logged in 7 window period (if there is less than three days - assign NaN and drop it)\n",
    "eng3=pd.DataFrame(eng2.groupby(['user_id'])[['date','visited']].rolling('7d',on='date',min_periods = 3).sum()).dropna()"
   ]
  },
  {
   "cell_type": "code",
   "execution_count": 140,
   "metadata": {
    "collapsed": false
   },
   "outputs": [],
   "source": [
    "eng3.reset_index(inplace=True)"
   ]
  },
  {
   "cell_type": "code",
   "execution_count": 143,
   "metadata": {
    "collapsed": false
   },
   "outputs": [],
   "source": [
    "adopted=list(eng3.user_id.unique())"
   ]
  },
  {
   "cell_type": "code",
   "execution_count": 351,
   "metadata": {
    "collapsed": false,
    "deletable": true,
    "editable": true
   },
   "outputs": [],
   "source": [
    "user=pd.read_csv('takehome_users.csv',encoding='latin-1')"
   ]
  },
  {
   "cell_type": "code",
   "execution_count": 352,
   "metadata": {
    "collapsed": false,
    "deletable": true,
    "editable": true
   },
   "outputs": [],
   "source": [
    "user['adopted_user'] = user.object_id.apply(lambda x: x in adopted)"
   ]
  },
  {
   "cell_type": "code",
   "execution_count": 355,
   "metadata": {
    "collapsed": false
   },
   "outputs": [],
   "source": [
    "user = user.fillna(0)"
   ]
  },
  {
   "cell_type": "code",
   "execution_count": 356,
   "metadata": {
    "collapsed": false
   },
   "outputs": [],
   "source": [
    "user['invited']=user['invited_by_user_id'].apply(lambda x : int(bool(x)))\n",
    "user['any_session']=user['last_session_creation_time'].apply(lambda x : int(bool(x)))"
   ]
  },
  {
   "cell_type": "code",
   "execution_count": 380,
   "metadata": {
    "collapsed": false
   },
   "outputs": [],
   "source": [
    "df = pd.DataFrame(user.groupby('creation_source')['adopted_user'].value_counts())"
   ]
  },
  {
   "cell_type": "code",
   "execution_count": 381,
   "metadata": {
    "collapsed": false
   },
   "outputs": [],
   "source": [
    "df = df.unstack(level=1)"
   ]
  },
  {
   "cell_type": "markdown",
   "metadata": {},
   "source": [
    "There were only 1602 adopted users identified out 12000 number of total users in the dataset. That is only around 13% of the whole data set.\n",
    "\n",
    "Main factors taken into account:\n",
    "\n",
    "- if a user opted to a mailing list (yes/no)\n",
    "- if they are on a regular mailing list (yes/no)\n",
    "- if they were invited by someone or not (no invitation user id was interpreted as the user was not invited by anyone)\n",
    "- if the user ever logged in after account creation (no last session creation time was interpreted as the user never logged in after account creation) \n",
    "- the source of account creation:\n",
    "    - one can see on the graphs below that. generally. users invited to join -personal projects has the smallest ratio of adopted users to non adopted users \n",
    "       "
   ]
  },
  {
   "cell_type": "code",
   "execution_count": 396,
   "metadata": {
    "collapsed": false
   },
   "outputs": [
    {
     "data": {
      "image/png": "[encoded data removed]",
      "text/plain": [
       "<Figure size 432x288 with 1 Axes>"
      ]
     },
     "metadata": {},
     "output_type": "display_data"
    }
   ],
   "source": [
    "df['ratio']=df.iloc[:,1]/df.iloc[:,0]\n",
    "df['ratio'].plot(kind='bar');\n",
    "plt.title('Ratio of adopted users to non adopted users for different source creations');"
   ]
  },
  {
   "cell_type": "code",
   "execution_count": 386,
   "metadata": {
    "collapsed": false
   },
   "outputs": [],
   "source": [
    "user_d=pd.get_dummies(user,drop_first=True, columns = ['creation_source'])"
   ]
  },
  {
   "cell_type": "code",
   "execution_count": 387,
   "metadata": {
    "collapsed": false
   },
   "outputs": [],
   "source": [
    "X = user_d[['opted_in_to_mailing_list',\n",
    "       'enabled_for_marketing_drip',\n",
    "        'creation_source_ORG_INVITE',\n",
    "       'creation_source_PERSONAL_PROJECTS', 'creation_source_SIGNUP',\n",
    "       'creation_source_SIGNUP_GOOGLE_AUTH','invited','any_session']]\n",
    "y=user_d.adopted_user"
   ]
  },
  {
   "cell_type": "markdown",
   "metadata": {},
   "source": [
    "Random Forest was chosen for future adoption prediction since it is easy to interpret and doesn't require much tuning.\n",
    "\n",
    "- The accuracy of the model seems relatively good (85%) \n",
    "- The classification report revealed that all data is classified as non adopted (86% in precision, and 100% recall for non - adopted users)\n",
    "- The reason for that behavior is a too small number of adopted users to perform proper classifier training. Just by classifying everyone as non-adopted user one can score 86% in precision. \n",
    "- It is important to have more adopted users in the data set to accurately predict the future user adoption.\n",
    "- The feature importance study of the trained random forest revealed that user should log in at least once to be considered for adoption, which seems reasonable inference. "
   ]
  },
  {
   "cell_type": "code",
   "execution_count": 401,
   "metadata": {
    "collapsed": true
   },
   "outputs": [],
   "source": [
    "#creating training and testing sets\n",
    "from sklearn.model_selection import train_test_split\n",
    "X_train, X_test, y_train, y_test = train_test_split(X, y, test_size=0.30)"
   ]
  },
  {
   "cell_type": "code",
   "execution_count": 403,
   "metadata": {
    "collapsed": false
   },
   "outputs": [
    {
     "name": "stdout",
     "output_type": "stream",
     "text": [
      "[[3116    0]\n",
      " [ 484    0]]\n",
      "             precision    recall  f1-score   support\n",
      "\n",
      "      False       0.87      1.00      0.93      3116\n",
      "       True       0.00      0.00      0.00       484\n",
      "\n",
      "avg / total       0.75      0.87      0.80      3600\n",
      "\n",
      "Accuracy:  0.865555555556\n"
     ]
    },
    {
     "name": "stderr",
     "output_type": "stream",
     "text": [
      "/Users/michalczapski/anaconda/envs/aind/lib/python3.6/site-packages/sklearn/metrics/classification.py:1135: UndefinedMetricWarning: Precision and F-score are ill-defined and being set to 0.0 in labels with no predicted samples.\n",
      "  'precision', 'predicted', average, warn_for)\n"
     ]
    }
   ],
   "source": [
    "from sklearn.ensemble import RandomForestClassifier\n",
    "model = RandomForestClassifier()\n",
    "model.fit(X_train,y_train)\n",
    "predictions = model.predict(X_test)\n",
    "print(confusion_matrix(y_test,predictions));\n",
    "print(classification_report(y_test,predictions));\n",
    "print(\"Accuracy: \", accuracy_score(y_test,predictions));"
   ]
  },
  {
   "cell_type": "code",
   "execution_count": 399,
   "metadata": {
    "collapsed": false
   },
   "outputs": [
    {
     "name": "stdout",
     "output_type": "stream",
     "text": [
      "                                    importance\n",
      "feature                                       \n",
      "any_session                              0.793\n",
      "creation_source_ORG_INVITE               0.064\n",
      "creation_source_PERSONAL_PROJECTS        0.037\n",
      "opted_in_to_mailing_list                 0.032\n",
      "enabled_for_marketing_drip               0.031\n",
      "creation_source_SIGNUP_GOOGLE_AUTH       0.021\n",
      "invited                                  0.012\n",
      "creation_source_SIGNUP                   0.011\n"
     ]
    },
    {
     "data": {
      "image/png": "[encoded data removed]",
      "text/plain": [
       "<Figure size 432x288 with 1 Axes>"
      ]
     },
     "metadata": {},
     "output_type": "display_data"
    }
   ],
   "source": [
    "importances = pd.DataFrame({'feature':X.columns,'importance':np.round(model.feature_importances_,3)})\n",
    "importances = importances.sort_values('importance',ascending=False).set_index('feature')\n",
    " \n",
    "print( importances);\n",
    "importances.plot.bar();"
   ]
  },
  {
   "cell_type": "markdown",
   "metadata": {},
   "source": [
    "\n",
    "Final Conclusions:\n",
    "\n",
    "- It is worth to analyze why there only 13% adopted users. If only three logins are required to consider adoption, then there is clearly so issues with the product that the users opt out. It is worth to analyze further through surveys/focus groups to see why the product doesn't work.\n",
    "- If at least one session creation is important for a future user adoption, more analysis could be done about to understand how much time needs to pass until the user is considered inactive. \n",
    "- The invitation to join another user's workspace seemed like a good candidate for adoption but feature importance analysis showed that actually, a guest invitation to an organization seems to have a greater impact. It is worth to understand how organizations use the product and promote it among their users."
   ]
  },
  {
   "cell_type": "code",
   "execution_count": null,
   "metadata": {
    "collapsed": true
   },
   "outputs": [],
   "source": []
  }
 ],
 "metadata": {
  "kernelspec": {
   "display_name": "Python 3",
   "language": "python",
   "name": "python3"
  },
  "language_info": {
   "codemirror_mode": {
    "name": "ipython",
    "version": 3
   },
   "file_extension": ".py",
   "mimetype": "text/x-python",
   "name": "python",
   "nbconvert_exporter": "python",
   "pygments_lexer": "ipython3",
   "version": "3.6.3"
  }
 },
 "nbformat": 4,
 "nbformat_minor": 2
}
